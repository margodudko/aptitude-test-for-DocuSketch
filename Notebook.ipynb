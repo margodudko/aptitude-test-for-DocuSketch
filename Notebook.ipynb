{
 "cells": [
  {
   "cell_type": "code",
   "execution_count": 30,
   "id": "27d03b88-aac0-423c-a275-ff7ee6f0a2f8",
   "metadata": {
    "scrolled": true
   },
   "outputs": [],
   "source": [
    "import json\n",
    "\n",
    "import matplotlib.pyplot as plt\n",
    "import pandas as pd\n",
    "import requests\n",
    "\n",
    "\n",
    "class ClassForDrawingPlots:\n",
    "    def draw_plots(data):\n",
    "        url = 'https://ai-process-sandy.s3.eu-west-1.amazonaws.com/purge/deviation.json'\n",
    "        data = json.loads(requests.get(url).text)\n",
    "        df = pd.DataFrame(data)\n",
    "        fig = df.plot(x='name', y=[\"gt_corners\", \"rb_corners\", \"floor_mean\", \"ceiling_mean\"], kind=\"bar\", figsize=(100, 100))\n",
    "        plt.title(\"Plot For Comparing Different Columns\")\n",
    "        plt.savefig(\"plots/plot.png\")\n",
    "        plt.ion()\n",
    "        plt.draw()\n",
    "        plt.pause(0.1)\n",
    "        plt.ioff()\n",
    "        plt.show()\n",
    "        fig = plt.gcf()\n",
    "        return fig"
   ]
  },
  {
   "cell_type": "code",
   "execution_count": null,
   "id": "25d3f118-01bf-4b69-a045-1d34dfd36949",
   "metadata": {},
   "outputs": [],
   "source": []
  },
  {
   "cell_type": "code",
   "execution_count": null,
   "id": "516b5f4d-6d49-4353-82e7-1696ad9f9029",
   "metadata": {},
   "outputs": [],
   "source": []
  }
 ],
 "metadata": {
  "kernelspec": {
   "display_name": "Python 3 (ipykernel)",
   "language": "python",
   "name": "python3"
  },
  "language_info": {
   "codemirror_mode": {
    "name": "ipython",
    "version": 3
   },
   "file_extension": ".py",
   "mimetype": "text/x-python",
   "name": "python",
   "nbconvert_exporter": "python",
   "pygments_lexer": "ipython3",
   "version": "3.11.4"
  }
 },
 "nbformat": 4,
 "nbformat_minor": 5
}
